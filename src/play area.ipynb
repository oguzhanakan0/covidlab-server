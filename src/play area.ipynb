{
 "cells": [
  {
   "cell_type": "code",
   "execution_count": 3,
   "id": "ea7cd0c0",
   "metadata": {},
   "outputs": [],
   "source": [
    "import os\n",
    "import django\n",
    "from user.models import User\n",
    "import json\n",
    "import firebase_admin\n",
    "from firebase_admin import credentials\n",
    "from firebase_admin import auth\n",
    "from django.http import JsonResponse\n",
    "from django.forms.models import model_to_dict\n",
    "import datetime\n",
    "\n",
    "os.environ.setdefault('DJANGO_SETTINGS_MODULE', 'rest.settings')\n",
    "os.environ[\"DJANGO_ALLOW_ASYNC_UNSAFE\"] = \"true\"\n",
    "django.setup()\n",
    "cred = credentials.Certificate(\n",
    "    \"/Users/oguzhanakan/Desktop/iquit-507f7-firebase-adminsdk-go447-bc8b2413f2.json\")  # Local Creds\n",
    "# cred = credentials.Certificate(\"/home/iquit-507f7-firebase-adminsdk-go447-bc8b2413f2.json\") # Server Creds\n",
    "default_app = firebase_admin.initialize_app(cred)"
   ]
  },
  {
   "cell_type": "code",
   "execution_count": 10,
   "id": "787ee9c0",
   "metadata": {},
   "outputs": [],
   "source": [
    "user, created = User.objects.get_or_create(uid = \"l82sSXme0rbIrFEEz81mjoTDpfF2\")"
   ]
  },
  {
   "cell_type": "code",
   "execution_count": 14,
   "id": "b8cca6aa",
   "metadata": {},
   "outputs": [],
   "source": []
  },
  {
   "cell_type": "code",
   "execution_count": 18,
   "id": "b5beff2b",
   "metadata": {},
   "outputs": [],
   "source": [
    "# Deleting a user\n",
    "us = auth.get_users([auth.EmailIdentifier(\"test1@a.com\"),])\n",
    "for user in us.users:\n",
    "    auth.delete_user(user.uid)"
   ]
  },
  {
   "cell_type": "code",
   "execution_count": 23,
   "id": "2724c62e",
   "metadata": {},
   "outputs": [],
   "source": []
  }
 ],
 "metadata": {
  "kernelspec": {
   "display_name": "Django Shell-Plus",
   "language": "python",
   "name": "django_extensions"
  },
  "language_info": {
   "codemirror_mode": {
    "name": "ipython",
    "version": 3
   },
   "file_extension": ".py",
   "mimetype": "text/x-python",
   "name": "python",
   "nbconvert_exporter": "python",
   "pygments_lexer": "ipython3",
   "version": "3.8.5"
  }
 },
 "nbformat": 4,
 "nbformat_minor": 5
}
